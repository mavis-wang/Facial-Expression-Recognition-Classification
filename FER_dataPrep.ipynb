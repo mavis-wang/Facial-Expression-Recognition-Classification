{
 "cells": [
  {
   "cell_type": "markdown",
   "metadata": {
    "colab_type": "text",
    "id": "view-in-github"
   },
   "source": [
    "<a href=\"https://colab.research.google.com/github/SJSUMS/FER2013/blob/main/FER_dataPrep.ipynb\" target=\"_parent\"><img src=\"https://colab.research.google.com/assets/colab-badge.svg\" alt=\"Open In Colab\"/></a>"
   ]
  },
  {
   "cell_type": "markdown",
   "metadata": {
    "id": "zfxl4IUkBxPE",
    "jp-MarkdownHeadingCollapsed": true,
    "tags": []
   },
   "source": [
    "## Facial Expression Recognition - Data Preparation [(Project)](https://github.com/mavis-wang/Facial-Expression-Recognition-Classification)\n",
    "Author: [mavisw](https://github.com/mavisw)\n",
    "\n",
    "\n",
    "\n",
    "#### Label\n",
    "0 - Angry\n",
    "1 - Disgust\n",
    "2 - Fear\n",
    "3 - Happy\n",
    "4 - Sad\n",
    "5 - Surprise\n",
    "6 - Neutral\n"
   ]
  },
  {
   "cell_type": "markdown",
   "metadata": {
    "id": "FO7k6nlyizbN"
   },
   "source": [
    "## Data\n",
    "* [FER2013 CSV](https://www.kaggle.com/deadskull7/fer2013)"
   ]
  },
  {
   "cell_type": "code",
   "execution_count": null,
   "metadata": {
    "id": "6wq8hXir8EY-"
   },
   "outputs": [],
   "source": [
    "import pandas as pd\n",
    "import numpy as np\n",
    "import tensorflow as tf\n",
    "from tensorflow import keras\n",
    "from matplotlib import pyplot as plt\n",
    "\n",
    "path = '/content/drive/Shareddrives/data 240 Data Mining/FER-2013/'"
   ]
  },
  {
   "cell_type": "code",
   "execution_count": null,
   "metadata": {
    "colab": {
     "base_uri": "https://localhost:8080/"
    },
    "id": "QlmtOF0Ed1e5",
    "outputId": "c08c133b-a0d0-46c8-a5a8-a1e6d1831db4"
   },
   "outputs": [
    {
     "name": "stdout",
     "output_type": "stream",
     "text": [
      "Drive already mounted at /content/drive; to attempt to forcibly remount, call drive.mount(\"/content/drive\", force_remount=True).\n"
     ]
    }
   ],
   "source": [
    "from google.colab import drive\n",
    "drive.mount('/content/drive')"
   ]
  },
  {
   "cell_type": "code",
   "execution_count": null,
   "metadata": {
    "id": "25WnwkShdE7K"
   },
   "outputs": [],
   "source": [
    "data = pd.read_csv(path + 'fer2013.csv')"
   ]
  },
  {
   "cell_type": "code",
   "execution_count": null,
   "metadata": {
    "colab": {
     "base_uri": "https://localhost:8080/"
    },
    "id": "QUxuXMEpeFES",
    "outputId": "a4dcadce-459c-4e6a-b504-659ea230ecad"
   },
   "outputs": [
    {
     "name": "stdout",
     "output_type": "stream",
     "text": [
      "<class 'pandas.core.frame.DataFrame'>\n",
      "RangeIndex: 35887 entries, 0 to 35886\n",
      "Data columns (total 3 columns):\n",
      " #   Column   Non-Null Count  Dtype \n",
      "---  ------   --------------  ----- \n",
      " 0   emotion  35887 non-null  int64 \n",
      " 1   pixels   35887 non-null  object\n",
      " 2   Usage    35887 non-null  object\n",
      "dtypes: int64(1), object(2)\n",
      "memory usage: 841.2+ KB\n"
     ]
    }
   ],
   "source": [
    "data.info()"
   ]
  },
  {
   "cell_type": "code",
   "execution_count": null,
   "metadata": {
    "colab": {
     "base_uri": "https://localhost:8080/",
     "height": 419
    },
    "id": "BrghDW-JfEqd",
    "outputId": "3fc2937f-39e6-4d61-f831-08f17cf34d7f"
   },
   "outputs": [
    {
     "data": {
      "text/html": [
       "<div>\n",
       "<style scoped>\n",
       "    .dataframe tbody tr th:only-of-type {\n",
       "        vertical-align: middle;\n",
       "    }\n",
       "\n",
       "    .dataframe tbody tr th {\n",
       "        vertical-align: top;\n",
       "    }\n",
       "\n",
       "    .dataframe thead th {\n",
       "        text-align: right;\n",
       "    }\n",
       "</style>\n",
       "<table border=\"1\" class=\"dataframe\">\n",
       "  <thead>\n",
       "    <tr style=\"text-align: right;\">\n",
       "      <th></th>\n",
       "      <th>emotion</th>\n",
       "      <th>pixels</th>\n",
       "      <th>Usage</th>\n",
       "    </tr>\n",
       "  </thead>\n",
       "  <tbody>\n",
       "    <tr>\n",
       "      <th>0</th>\n",
       "      <td>0</td>\n",
       "      <td>70 80 82 72 58 58 60 63 54 58 60 48 89 115 121...</td>\n",
       "      <td>Training</td>\n",
       "    </tr>\n",
       "    <tr>\n",
       "      <th>1</th>\n",
       "      <td>0</td>\n",
       "      <td>151 150 147 155 148 133 111 140 170 174 182 15...</td>\n",
       "      <td>Training</td>\n",
       "    </tr>\n",
       "    <tr>\n",
       "      <th>2</th>\n",
       "      <td>2</td>\n",
       "      <td>231 212 156 164 174 138 161 173 182 200 106 38...</td>\n",
       "      <td>Training</td>\n",
       "    </tr>\n",
       "    <tr>\n",
       "      <th>3</th>\n",
       "      <td>4</td>\n",
       "      <td>24 32 36 30 32 23 19 20 30 41 21 22 32 34 21 1...</td>\n",
       "      <td>Training</td>\n",
       "    </tr>\n",
       "    <tr>\n",
       "      <th>4</th>\n",
       "      <td>6</td>\n",
       "      <td>4 0 0 0 0 0 0 0 0 0 0 0 3 15 23 28 48 50 58 84...</td>\n",
       "      <td>Training</td>\n",
       "    </tr>\n",
       "    <tr>\n",
       "      <th>...</th>\n",
       "      <td>...</td>\n",
       "      <td>...</td>\n",
       "      <td>...</td>\n",
       "    </tr>\n",
       "    <tr>\n",
       "      <th>35882</th>\n",
       "      <td>6</td>\n",
       "      <td>50 36 17 22 23 29 33 39 34 37 37 37 39 43 48 5...</td>\n",
       "      <td>PrivateTest</td>\n",
       "    </tr>\n",
       "    <tr>\n",
       "      <th>35883</th>\n",
       "      <td>3</td>\n",
       "      <td>178 174 172 173 181 188 191 194 196 199 200 20...</td>\n",
       "      <td>PrivateTest</td>\n",
       "    </tr>\n",
       "    <tr>\n",
       "      <th>35884</th>\n",
       "      <td>0</td>\n",
       "      <td>17 17 16 23 28 22 19 17 25 26 20 24 31 19 27 9...</td>\n",
       "      <td>PrivateTest</td>\n",
       "    </tr>\n",
       "    <tr>\n",
       "      <th>35885</th>\n",
       "      <td>3</td>\n",
       "      <td>30 28 28 29 31 30 42 68 79 81 77 67 67 71 63 6...</td>\n",
       "      <td>PrivateTest</td>\n",
       "    </tr>\n",
       "    <tr>\n",
       "      <th>35886</th>\n",
       "      <td>2</td>\n",
       "      <td>19 13 14 12 13 16 21 33 50 57 71 84 97 108 122...</td>\n",
       "      <td>PrivateTest</td>\n",
       "    </tr>\n",
       "  </tbody>\n",
       "</table>\n",
       "<p>35887 rows × 3 columns</p>\n",
       "</div>"
      ],
      "text/plain": [
       "       emotion                                             pixels        Usage\n",
       "0            0  70 80 82 72 58 58 60 63 54 58 60 48 89 115 121...     Training\n",
       "1            0  151 150 147 155 148 133 111 140 170 174 182 15...     Training\n",
       "2            2  231 212 156 164 174 138 161 173 182 200 106 38...     Training\n",
       "3            4  24 32 36 30 32 23 19 20 30 41 21 22 32 34 21 1...     Training\n",
       "4            6  4 0 0 0 0 0 0 0 0 0 0 0 3 15 23 28 48 50 58 84...     Training\n",
       "...        ...                                                ...          ...\n",
       "35882        6  50 36 17 22 23 29 33 39 34 37 37 37 39 43 48 5...  PrivateTest\n",
       "35883        3  178 174 172 173 181 188 191 194 196 199 200 20...  PrivateTest\n",
       "35884        0  17 17 16 23 28 22 19 17 25 26 20 24 31 19 27 9...  PrivateTest\n",
       "35885        3  30 28 28 29 31 30 42 68 79 81 77 67 67 71 63 6...  PrivateTest\n",
       "35886        2  19 13 14 12 13 16 21 33 50 57 71 84 97 108 122...  PrivateTest\n",
       "\n",
       "[35887 rows x 3 columns]"
      ]
     },
     "execution_count": 13,
     "metadata": {},
     "output_type": "execute_result"
    }
   ],
   "source": [
    "# original csv data\n",
    "data"
   ]
  },
  {
   "cell_type": "markdown",
   "metadata": {
    "id": "a4ObW5dFj0yg"
   },
   "source": [
    "## Pre-processing"
   ]
  },
  {
   "cell_type": "code",
   "execution_count": null,
   "metadata": {
    "id": "7Ji-FEy-hyMg"
   },
   "outputs": [],
   "source": [
    "from sklearn import preprocessing\n",
    "from sklearn.model_selection import train_test_split\n",
    "from tensorflow.keras.preprocessing import image\n",
    "from PIL import Image"
   ]
  },
  {
   "cell_type": "markdown",
   "metadata": {
    "id": "lHRFTnGgMYqB"
   },
   "source": [
    "#### img to array"
   ]
  },
  {
   "cell_type": "code",
   "execution_count": null,
   "metadata": {
    "id": "jookio_W0TKn"
   },
   "outputs": [],
   "source": [
    "data_X = []\n",
    "for i in range(0,data.shape[0]):\n",
    "  img = np.array(data['pixels'][i].split(' '))\n",
    "  \n",
    "  img = img.reshape(48,48,1)\n",
    "  img = image.img_to_array(img)\n",
    "  data_X.append(img)\n",
    "\n",
    "data_X = np.array(data_X)"
   ]
  },
  {
   "cell_type": "code",
   "execution_count": null,
   "metadata": {
    "colab": {
     "base_uri": "https://localhost:8080/"
    },
    "id": "B8AeGhCRALDM",
    "outputId": "feb1ad14-6a11-497c-c5db-c668727f22ff"
   },
   "outputs": [
    {
     "data": {
      "text/plain": [
       "(35887, 48, 48, 1)"
      ]
     },
     "execution_count": 17,
     "metadata": {},
     "output_type": "execute_result"
    }
   ],
   "source": [
    "data_X.shape"
   ]
  },
  {
   "cell_type": "code",
   "execution_count": null,
   "metadata": {
    "colab": {
     "base_uri": "https://localhost:8080/"
    },
    "id": "09ejkEf_2DaW",
    "outputId": "32dfb55d-9445-4f82-c6ad-e7912ef71a3c"
   },
   "outputs": [
    {
     "data": {
      "text/plain": [
       "(35887, 1)"
      ]
     },
     "execution_count": 19,
     "metadata": {},
     "output_type": "execute_result"
    }
   ],
   "source": [
    "# label\n",
    "data_y = np.array(data['emotion'])\n",
    "data_y = data_y.reshape(-1,1)\n",
    "data_y.shape"
   ]
  },
  {
   "cell_type": "markdown",
   "metadata": {
    "id": "pOc5bOCygQ3m"
   },
   "source": [
    "#### scaling"
   ]
  },
  {
   "cell_type": "code",
   "execution_count": null,
   "metadata": {
    "colab": {
     "base_uri": "https://localhost:8080/"
    },
    "id": "lrpjsp_jgQl2",
    "outputId": "247c597a-d857-4dbf-b6f7-83fb125a1da0"
   },
   "outputs": [
    {
     "data": {
      "text/plain": [
       "array([[[0.27450982],\n",
       "        [0.3137255 ],\n",
       "        [0.32156864],\n",
       "        ...,\n",
       "        [0.20392157],\n",
       "        [0.16862746],\n",
       "        [0.16078432]],\n",
       "\n",
       "       [[0.25490198],\n",
       "        [0.23921569],\n",
       "        [0.22745098],\n",
       "        ...,\n",
       "        [0.21960784],\n",
       "        [0.20392157],\n",
       "        [0.17254902]],\n",
       "\n",
       "       [[0.19607843],\n",
       "        [0.16862746],\n",
       "        [0.21176471],\n",
       "        ...,\n",
       "        [0.19215687],\n",
       "        [0.21960784],\n",
       "        [0.18431373]],\n",
       "\n",
       "       ...,\n",
       "\n",
       "       [[0.35686275],\n",
       "        [0.25490198],\n",
       "        [0.16470589],\n",
       "        ...,\n",
       "        [0.28235295],\n",
       "        [0.21960784],\n",
       "        [0.16862746]],\n",
       "\n",
       "       [[0.3019608 ],\n",
       "        [0.32156864],\n",
       "        [0.30980393],\n",
       "        ...,\n",
       "        [0.4117647 ],\n",
       "        [0.27450982],\n",
       "        [0.18039216]],\n",
       "\n",
       "       [[0.3019608 ],\n",
       "        [0.28235295],\n",
       "        [0.32941177],\n",
       "        ...,\n",
       "        [0.41568628],\n",
       "        [0.42745098],\n",
       "        [0.32156864]]], dtype=float32)"
      ]
     },
     "execution_count": 20,
     "metadata": {},
     "output_type": "execute_result"
    }
   ],
   "source": [
    "# normaize\n",
    "data_X /= 255\n",
    "data_X[0]"
   ]
  },
  {
   "cell_type": "markdown",
   "metadata": {
    "id": "tXTIhtsx0ZQq"
   },
   "source": [
    "## Save/load data"
   ]
  },
  {
   "cell_type": "code",
   "execution_count": null,
   "metadata": {
    "id": "mfMwAgdH0YQI"
   },
   "outputs": [],
   "source": [
    "# save data\n",
    "from pickle import dump\n",
    "dump(data_X, open(path + 'data/X.pkl', 'wb'))\n",
    "dump(data_y, open(path + 'data/y.pkl', 'wb'))"
   ]
  },
  {
   "cell_type": "code",
   "execution_count": null,
   "metadata": {
    "id": "wOybVbKS2L5Q"
   },
   "outputs": [],
   "source": [
    "# load data\n",
    "from pickle import load\n",
    "data_X = load(open(path + 'data/X.pkl', 'rb'))\n",
    "data_y = load(open(path + 'data/y.pkl', 'rb'))"
   ]
  },
  {
   "cell_type": "markdown",
   "metadata": {
    "id": "RGVFe-cIZOYM"
   },
   "source": [
    "#### Split dataset"
   ]
  },
  {
   "cell_type": "code",
   "execution_count": null,
   "metadata": {
    "id": "WQAz5ImeYAzd"
   },
   "outputs": [],
   "source": [
    "# 80% train, 10% test\n",
    "X_train, X_test, y_train, y_test = train_test_split(data_X, data_y, test_size=0.1)\n",
    "\n",
    "# reserve 6000 (~20%) samples for validation\n",
    "X_val = X_train[-6000:]\n",
    "y_val = y_train[-6000:]\n",
    "X_train = X_train[:-6000]\n",
    "y_train = y_train[:-6000]"
   ]
  },
  {
   "cell_type": "code",
   "execution_count": null,
   "metadata": {
    "colab": {
     "base_uri": "https://localhost:8080/"
    },
    "id": "J0uwoeU8z_H2",
    "outputId": "eb221cd2-3ec2-432e-fdb5-e54e0022dbb7"
   },
   "outputs": [
    {
     "name": "stdout",
     "output_type": "stream",
     "text": [
      "(26298, 48, 48, 1)\n",
      "(26298, 1)\n",
      "(6000, 48, 48, 1)\n",
      "(6000, 1)\n",
      "(3589, 48, 48, 1)\n",
      "(3589, 1)\n"
     ]
    }
   ],
   "source": [
    "print(X_train.shape)\n",
    "print(y_train.shape)\n",
    "\n",
    "print(X_val.shape)\n",
    "print(y_val.shape)\n",
    "\n",
    "print(X_test.shape)\n",
    "print(y_test.shape)"
   ]
  },
  {
   "cell_type": "code",
   "execution_count": null,
   "metadata": {
    "colab": {
     "base_uri": "https://localhost:8080/",
     "height": 265
    },
    "id": "0N9zYOMk79yj",
    "outputId": "b01410ef-5fae-4cb3-f14a-7ae25279cf61"
   },
   "outputs": [
    {
     "data": {
      "image/png": "[encoded data removed]",
      "text/plain": [
       "<Figure size 432x288 with 1 Axes>"
      ]
     },
     "metadata": {
      "needs_background": "light"
     },
     "output_type": "display_data"
    }
   ],
   "source": [
    "# plot\n",
    "labels = ['train','val','test']\n",
    "freq = [X_train.shape[0],X_val.shape[0],X_test.shape[0]]\n",
    "plt.bar(labels, freq)\n",
    "plt.show()"
   ]
  },
  {
   "cell_type": "code",
   "execution_count": null,
   "metadata": {
    "colab": {
     "base_uri": "https://localhost:8080/"
    },
    "id": "QWzmL2RVzg2D",
    "outputId": "8121cb46-64a1-4355-e10f-c89fc72b559d"
   },
   "outputs": [
    {
     "data": {
      "text/plain": [
       "(26298, 48, 48, 1)"
      ]
     },
     "execution_count": 29,
     "metadata": {},
     "output_type": "execute_result"
    }
   ],
   "source": [
    "X_train.shape"
   ]
  },
  {
   "cell_type": "markdown",
   "metadata": {
    "id": "GUrSXlXpztV-"
   },
   "source": [
    "#### one-hot encoding"
   ]
  },
  {
   "cell_type": "code",
   "execution_count": null,
   "metadata": {
    "id": "LOQ9Nea6nZ6A"
   },
   "outputs": [],
   "source": [
    "from tensorflow.keras.utils import to_categorical\n",
    "\n",
    "# define classes\n",
    "n_classes = 7\n",
    "\n",
    "# one-hot encoding\n",
    "y_train = to_categorical(y_train, n_classes)\n",
    "y_val = to_categorical(y_val, n_classes)\n",
    "y_test = to_categorical(y_test, n_classes)"
   ]
  },
  {
   "cell_type": "markdown",
   "metadata": {
    "id": "uPVF5uN5cOBd"
   },
   "source": [
    "## visualize data"
   ]
  },
  {
   "cell_type": "code",
   "execution_count": null,
   "metadata": {
    "colab": {
     "base_uri": "https://localhost:8080/"
    },
    "id": "f2UNIymgeSRQ",
    "outputId": "23947690-300f-44c0-cbb5-77d72aac7b1a"
   },
   "outputs": [
    {
     "data": {
      "text/plain": [
       "['Angry', 'Disgust', 'Fear', 'Happy', 'Neutral', 'Sad', 'Surprise']"
      ]
     },
     "execution_count": 31,
     "metadata": {},
     "output_type": "execute_result"
    }
   ],
   "source": [
    "le = preprocessing.LabelEncoder()\n",
    "le.fit(['Angry','Disgust','Fear','Happy','Sad','Surprise','Neutral'])\n",
    "list(le.classes_)"
   ]
  },
  {
   "cell_type": "markdown",
   "metadata": {
    "id": "p8iCu2-g0yxI"
   },
   "source": [
    "#### data distribution"
   ]
  },
  {
   "cell_type": "code",
   "execution_count": null,
   "metadata": {
    "colab": {
     "base_uri": "https://localhost:8080/",
     "height": 265
    },
    "id": "52wykMvt032Z",
    "outputId": "c9923cdc-125f-43e9-8fbc-0ef947994a01"
   },
   "outputs": [
    {
     "data": {
      "image/png": "[encoded data removed]",
      "text/plain": [
       "<Figure size 432x288 with 1 Axes>"
      ]
     },
     "metadata": {
      "needs_background": "light"
     },
     "output_type": "display_data"
    }
   ],
   "source": [
    "# label distribution\n",
    "label_df = pd.DataFrame(y_train.reshape(-1,7))\n",
    "cat = list(le.classes_)\n",
    "freq = np.sum(label_df, axis=0)\n",
    "\n",
    "plt.bar(cat, freq)\n",
    "plt.show()"
   ]
  },
  {
   "cell_type": "markdown",
   "metadata": {
    "id": "itFb5dLCe-mX"
   },
   "source": [
    "#### emotion annotation"
   ]
  },
  {
   "cell_type": "code",
   "execution_count": null,
   "metadata": {
    "colab": {
     "base_uri": "https://localhost:8080/",
     "height": 427
    },
    "id": "3Vd0MfpNcYjo",
    "outputId": "386f6f57-f0db-44fd-9e15-87d1e419b3a0"
   },
   "outputs": [
    {
     "data": {
      "image/png": "[encoded data removed]",
      "text/plain": [
       "<PIL.Image.Image image mode=L size=48x48 at 0x7F1A1EA7BFD0>"
      ]
     },
     "metadata": {},
     "output_type": "display_data"
    },
    {
     "name": "stdout",
     "output_type": "stream",
     "text": [
      "['Neutral']\n",
      "4\n"
     ]
    },
    {
     "data": {
      "image/png": "[encoded data removed]",
      "text/plain": [
       "<PIL.Image.Image image mode=L size=48x48 at 0x7F1A1E89FD50>"
      ]
     },
     "metadata": {},
     "output_type": "display_data"
    },
    {
     "name": "stdout",
     "output_type": "stream",
     "text": [
      "['Happy']\n",
      "3\n"
     ]
    },
    {
     "data": {
      "image/png": "[encoded data removed]",
      "text/plain": [
       "<PIL.Image.Image image mode=L size=48x48 at 0x7F1A1E89FBD0>"
      ]
     },
     "metadata": {},
     "output_type": "display_data"
    },
    {
     "name": "stdout",
     "output_type": "stream",
     "text": [
      "['Surprise']\n",
      "6\n"
     ]
    },
    {
     "data": {
      "image/png": "[encoded data removed]",
      "text/plain": [
       "<PIL.Image.Image image mode=L size=48x48 at 0x7F1A1E89FD50>"
      ]
     },
     "metadata": {},
     "output_type": "display_data"
    },
    {
     "name": "stdout",
     "output_type": "stream",
     "text": [
      "['Neutral']\n",
      "4\n"
     ]
    },
    {
     "data": {
      "image/png": "[encoded data removed]",
      "text/plain": [
       "<PIL.Image.Image image mode=L size=48x48 at 0x7F1A1E89F390>"
      ]
     },
     "metadata": {},
     "output_type": "display_data"
    },
    {
     "name": "stdout",
     "output_type": "stream",
     "text": [
      "['Angry']\n",
      "0\n"
     ]
    }
   ],
   "source": [
    "# visualize\n",
    "for i in range(5):\n",
    "  display(image.array_to_img(X_train[i]))\n",
    "  print(le.inverse_transform([np.argmax(y_train[i])]))\n",
    "  print(np.argmax(y_train[i]))"
   ]
  }
 ],
 "metadata": {
  "colab": {
   "authorship_tag": "ABX9TyOqAZCFxsVZvlJm0wQ93LrX",
   "collapsed_sections": [
    "pOc5bOCygQ3m"
   ],
   "include_colab_link": true,
   "mount_file_id": "1p_N9GO9ReMz8n2AWD5RJwLQzQ1-ESKJe",
   "name": "FER_dataPrep.ipynb",
   "provenance": [],
   "toc_visible": true
  },
  "kernelspec": {
   "display_name": "Python 3 (ipykernel)",
   "language": "python",
   "name": "python3"
  },
  "language_info": {
   "codemirror_mode": {
    "name": "ipython",
    "version": 3
   },
   "file_extension": ".py",
   "mimetype": "text/x-python",
   "name": "python",
   "nbconvert_exporter": "python",
   "pygments_lexer": "ipython3",
   "version": "3.8.13"
  }
 },
 "nbformat": 4,
 "nbformat_minor": 4
}
